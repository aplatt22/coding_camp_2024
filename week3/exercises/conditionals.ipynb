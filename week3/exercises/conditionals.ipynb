{
 "cells": [
  {
   "cell_type": "markdown",
   "metadata": {},
   "source": [
    "# Exercises with Conditionals"
   ]
  },
  {
   "cell_type": "markdown",
   "metadata": {},
   "source": [
    "## Exercise 1: \n",
    "Write the code that given an item that life gives you, it tells you what to do with it. If it is 'lemon' or 'lemons', it should recommend to do lemonade. If 'orange' or 'oranges' orange juice. If 'money' it should recommend to buy oranges or lemons to make lemonade or orange juice. If 'love' it should complain that love is not an item and in any other case it should give an unrelated useless message."
   ]
  },
  {
   "cell_type": "code",
   "execution_count": null,
   "metadata": {},
   "outputs": [],
   "source": [
    "life_gave = input('What has life given you?\\n')\n",
    "\n",
    "if 'lemon' in life_gave:\n",
    "    print('You should make lemonade!')\n",
    "elif 'orange' in life_gave:\n",
    "    print('You should make orange juice!')\n",
    "elif life_gave == 'money':\n",
    "    print('You should buy lemons or oranges to make lemonade or orange juice!')\n",
    "elif life_gave == 'love':\n",
    "    print('Love is not an item you fool!')\n",
    "else:\n",
    "    print('How am I supposed to know what you should do?')"
   ]
  },
  {
   "cell_type": "markdown",
   "metadata": {},
   "source": [
    "## Exercise 2:\n",
    "Write a code that given a number, it will print if the number is divisible by 2, or 3. And will also display the reminder of dividing it by 7 if the number is larger than 7.\n",
    "\n",
    "Constraints:\n",
    "\n",
    "* If the number is divisible by 2 and smaller or equal to 7 it should only print that it is divisible by 2.\n",
    "* If the number is divisible by 2 and larger than 7 it should print that it is divisible by 2 and the reminder of dividing by 7.\n",
    "* If the number is divisible by 3 and smaller or equal to 7 it should only print that it is divisible by 3.\n",
    "* If the number is divisible by 3 and larger than 7 it should print that it is divisible by 3 and the reminder of dividing by 7.\n",
    "* If the number is not divisible by 2 nor 3, but larger than 7 it should only print the reminder of dividing by 7\n",
    "* Otherwise it should not print anything"
   ]
  },
  {
   "cell_type": "code",
   "execution_count": null,
   "metadata": {},
   "outputs": [],
   "source": [
    "number = input('What number would you like to learn about?\\n')\n",
    "number = int(number)\n",
    "\n",
    "if number % 2 == 0:\n",
    "    if number <= 7:\n",
    "        print('The number is divisible by 2!')\n",
    "    elif number > 7:\n",
    "        print('The number is divisible by 2!')\n",
    "        print(f'The remainder of dividing by 7 is {number % 7}!')\n",
    "elif number % 3 == 0:\n",
    "    if number <= 7:\n",
    "        print('The number is divisible by 3!')\n",
    "    elif number > 7:\n",
    "        print('The number is divisible by 3!')\n",
    "        print(f'The remainder of dividing by 7 is {number % 7}!')\n",
    "else:\n",
    "    if number > 7:\n",
    "        print(f'The remainder of dividing by 7 is {number % 7}!')"
   ]
  },
  {
   "cell_type": "markdown",
   "metadata": {},
   "source": [
    "## Exercise 3:\n",
    "Given the following code:\n",
    "\n",
    "if a < b:\n",
    "    value_1 = a\n",
    "elif b < c:\n",
    "    value_1 = c\n",
    "else:\n",
    "    value_1 = b\n",
    "\n",
    "if c < a:\n",
    "    value_2 = a\n",
    "else:\n",
    "    value_2 = b\n",
    "\n",
    "if value_2 > value_1:\n",
    "    c = value_1\n",
    "    value_2 = value_1\n",
    "    value_1 = c\n",
    "else:\n",
    "    c = value_2\n",
    "    value_2 = value_1\n",
    "value_1 = c\n",
    "\n",
    "print(f'the final values are: ({value_1},{value_2})')\n",
    "\n",
    "predict without executing the code what it will do if:\n",
    "\n",
    "1) a=1, b=2, c=3\n",
    "2) a=1, b=1, c=3\n",
    "3) a=1, b=1, c=1\n",
    "4) a=2, b=3, c=1\n",
    "5) a=3, b=5, c=1\n",
    "6) a='a', b='b', c='c'\n",
    "7) a='c', b='b', c='c'\n",
    "8) a='c', b='b', c='a'\n"
   ]
  },
  {
   "cell_type": "markdown",
   "metadata": {},
   "source": [
    "1) the final values are: (1,1)\n",
    "2) the final values are: (1,3)\n",
    "3) the final values are: (1,1)\n",
    "4) the final values are: (2,2)\n",
    "5) the final values are: (3,3)\n",
    "6) the final values are: (a,a)\n",
    "7) the final values are: (b,c)\n",
    "8) the final values are: (b,b)"
   ]
  },
  {
   "cell_type": "code",
   "execution_count": null,
   "metadata": {},
   "outputs": [],
   "source": []
  }
 ],
 "metadata": {
  "kernelspec": {
   "display_name": "codingcamp24",
   "language": "python",
   "name": "python3"
  },
  "language_info": {
   "codemirror_mode": {
    "name": "ipython",
    "version": 3
   },
   "file_extension": ".py",
   "mimetype": "text/x-python",
   "name": "python",
   "nbconvert_exporter": "python",
   "pygments_lexer": "ipython3",
   "version": "3.11.9"
  },
  "orig_nbformat": 4
 },
 "nbformat": 4,
 "nbformat_minor": 2
}
