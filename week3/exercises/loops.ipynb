{
 "cells": [
  {
   "cell_type": "markdown",
   "metadata": {},
   "source": [
    "# Exercises with Loops"
   ]
  },
  {
   "cell_type": "markdown",
   "metadata": {},
   "source": [
    "## Exercise 1:\n",
    "Write a for loop that prints the keys of a dictionary. Use the following dictionary:\n",
    "\n",
    "my_dict = {'avocado':'1.99$',\n",
    "          'bell pepper':'0.89$',\n",
    "          'strawberries':'2.77$',\n",
    "          'lemon':'0.89$',\n",
    "          'blueberries':'7.99$',\n",
    "          'watermelon':'5.99$',\n",
    "          'peach':'1.85$'}"
   ]
  },
  {
   "cell_type": "code",
   "execution_count": 8,
   "metadata": {},
   "outputs": [],
   "source": [
    "my_dict = {'avocado':'1.99$',\n",
    "           'bell pepper':'0.89$',\n",
    "           'strawberry':'2.77$',\n",
    "           'lemon':'0.89$',\n",
    "           'blueberry':'7.99$',\n",
    "           'watermelon':'5.99$',\n",
    "           'peach':'1.85$'}"
   ]
  },
  {
   "cell_type": "code",
   "execution_count": 2,
   "metadata": {},
   "outputs": [
    {
     "name": "stdout",
     "output_type": "stream",
     "text": [
      "avocado\n",
      "bell pepper\n",
      "strawberries\n",
      "lemon\n",
      "blueberries\n",
      "watermelon\n",
      "peach\n"
     ]
    }
   ],
   "source": [
    "for key in my_dict:\n",
    "    print(key)"
   ]
  },
  {
   "cell_type": "markdown",
   "metadata": {},
   "source": [
    "## Exercise 2:\n",
    "Write a while loop that prints the keys of a dictionary"
   ]
  },
  {
   "cell_type": "code",
   "execution_count": 7,
   "metadata": {},
   "outputs": [
    {
     "name": "stdout",
     "output_type": "stream",
     "text": [
      "avocado\n",
      "bell pepper\n",
      "strawberries\n",
      "lemon\n",
      "blueberries\n",
      "watermelon\n",
      "peach\n"
     ]
    }
   ],
   "source": [
    "keys = list(my_dict)\n",
    "i = 0\n",
    "\n",
    "while i<len(keys):\n",
    "    print(keys[i])\n",
    "    i += 1"
   ]
  },
  {
   "cell_type": "markdown",
   "metadata": {},
   "source": [
    "## Exercise 3:\n",
    "Given a \"budget\" variable and an \"item\" write code that will print how many items you can afford with that budget. It should display a nice message telling you how many units of the specific item you can afford with the budget and how much money you have left. You can't use multiplication (*), division (/), integer division (//) nor reminder operations (%)."
   ]
  },
  {
   "cell_type": "code",
   "execution_count": 15,
   "metadata": {},
   "outputs": [
    {
     "name": "stdout",
     "output_type": "stream",
     "text": [
      "You can afford to buy 112 lemon(s)!\n"
     ]
    }
   ],
   "source": [
    "budget = '100$'\n",
    "item = 'lemon'\n",
    "\n",
    "price = float(my_dict[item].split('$')[0])\n",
    "budget_left = float(budget.split('$')[0])\n",
    "item_count = 0\n",
    "while price <= budget_left:\n",
    "    item_count += 1\n",
    "    budget_left = budget_left - price\n",
    "\n",
    "final_message = f'You can afford to buy {item_count} {item}(s)!'\n",
    "print(final_message)"
   ]
  },
  {
   "cell_type": "markdown",
   "metadata": {},
   "source": [
    "## Exercise 4:\n",
    "Given two lists of values, write a loop that iterates them in parallel and prints each of the items in parallel.\n",
    "\n",
    "For example for the lists: \n",
    "\n",
    "vowels = ['a','e','i','o','u']\n",
    "\n",
    "numbers = [13,37,42,73,169]\n",
    "\n",
    "Executing the code should display:\n",
    "\n",
    "current items = ( a , 13 )\n",
    "\n",
    "current items = ( e , 37 )\n",
    "\n",
    "current items = ( i , 42 )\n",
    "\n",
    "current items = ( o , 73 )\n",
    "\n",
    "current items = ( u , 169 )"
   ]
  },
  {
   "cell_type": "code",
   "execution_count": 21,
   "metadata": {},
   "outputs": [
    {
     "name": "stdout",
     "output_type": "stream",
     "text": [
      "current items = ( a , 13 )\n",
      "current items = ( e , 37 )\n",
      "current items = ( i , 42 )\n",
      "current items = ( o , 73 )\n",
      "current items = ( u , 169 )\n"
     ]
    }
   ],
   "source": [
    "# setting two lists of the same length\n",
    "vowels = ['a', 'e', 'i', 'o', 'u']\n",
    "numbers = [13, 37, 42, 73, 169]\n",
    "\n",
    "i = 0\n",
    "for item in vowels:\n",
    "    print(f'current items = ( {vowels[i]} , {numbers[i]} )')\n",
    "    i += 1"
   ]
  },
  {
   "cell_type": "markdown",
   "metadata": {},
   "source": [
    "## Exercise 5:\n",
    "Repeat the same as in the previous exercise but now the second list should be in reversed order."
   ]
  },
  {
   "cell_type": "code",
   "execution_count": 23,
   "metadata": {},
   "outputs": [
    {
     "name": "stdout",
     "output_type": "stream",
     "text": [
      "current items = ( a , 169 )\n",
      "current items = ( e , 73 )\n",
      "current items = ( i , 42 )\n",
      "current items = ( o , 37 )\n",
      "current items = ( u , 13 )\n"
     ]
    }
   ],
   "source": [
    "i = 0\n",
    "j = len(vowels) - 1\n",
    "for item in vowels:\n",
    "    print(f'current items = ( {vowels[i]} , {numbers[j]} )')\n",
    "    i += 1\n",
    "    j -= 1"
   ]
  },
  {
   "cell_type": "markdown",
   "metadata": {},
   "source": [
    "## Exercise 6:\n",
    "Write code that given a number below 100 returns if the number is a prime number. Ensure that if the number is equal or higher than 100 it will only print a message saying \"the number is above 100\""
   ]
  },
  {
   "cell_type": "code",
   "execution_count": 65,
   "metadata": {},
   "outputs": [
    {
     "name": "stdout",
     "output_type": "stream",
     "text": [
      "the number is above 100\n"
     ]
    }
   ],
   "source": [
    "number = input('Give me a number less than 100!\\n')\n",
    "number = int(number)\n",
    "\n",
    "remainders = []\n",
    "\n",
    "if number < 100:\n",
    "    for num in range(2,number):\n",
    "        remain = number % num\n",
    "        remainders.append(remain)\n",
    "    if 0 in remainders:\n",
    "            print('That number is not prime.') \n",
    "    else:\n",
    "        print('That number is prime.')     \n",
    "else:\n",
    "    print('the number is above 100')"
   ]
  },
  {
   "cell_type": "markdown",
   "metadata": {},
   "source": [
    "## Exercise 7: \n",
    "Write a code that ask the user for a number below 100. If the number provided is not a prime number it should ask the user for another number. the program will only stop after the user provides a prime number."
   ]
  },
  {
   "cell_type": "code",
   "execution_count": 66,
   "metadata": {},
   "outputs": [
    {
     "name": "stdout",
     "output_type": "stream",
     "text": [
      "That number is not prime, provide another\n"
     ]
    }
   ],
   "source": [
    "def is_prime(number):\n",
    "    remainders = []\n",
    "    for num in range (2,number):\n",
    "        remain = number % num\n",
    "        remainders.append(remain)\n",
    "        if remain == 0:\n",
    "            break\n",
    "    if 0 in remainders:\n",
    "        return False\n",
    "    else:\n",
    "        return True    \n",
    "    \n",
    "number = input('Give me a number less than 100!\\n')\n",
    "number = int(number) \n",
    "\n",
    "while number < 100:\n",
    "    if is_prime(number):\n",
    "        print('That number is prime!')\n",
    "        break\n",
    "    else:\n",
    "        print('That number is not prime.')\n",
    "        number = int(input('Provide another number.\\n'))\n",
    "else:\n",
    "    print('The number is above 100, run the program again and do better.')"
   ]
  },
  {
   "cell_type": "markdown",
   "metadata": {},
   "source": [
    "## Exercise 8:\n",
    "Repeat exercise 7, but now try to annoy the user. If the user fails 1 time send him an encouraging message, if the user fails 3 times send a mocking message. Anytime the user provides a previous guess send the user an angry message."
   ]
  },
  {
   "cell_type": "code",
   "execution_count": null,
   "metadata": {},
   "outputs": [],
   "source": [
    "number = input('Give me a number less than 100!\\n')\n",
    "number = int(number) \n",
    "\n",
    "trials = 0\n",
    "tested_numbers = []\n",
    "\n",
    "while number < 100:\n",
    "    if is_prime(number):\n",
    "        print('That number is prime!')\n",
    "        break\n",
    "    else:\n",
    "        # print('That number is not prime.')\n",
    "        trials +=1\n",
    "        if number in tested_numbers:\n",
    "            print('You have to be kidding me, you already tried this one! Stop wasting my time.')\n",
    "            number = int(input(\"Give me another number you haven't already tried.\\n\"))\n",
    "        elif trials in [1, 2]:\n",
    "            number = int(input(\"Prime numbers are hard, try again and you'll get it!.\\n\"))\n",
    "            tested_numbers.append(number)\n",
    "        elif trials >= 3:\n",
    "            number = int(input('A monkey could find a prime number sooner, try again dummy.\\n'))\n",
    "            tested_numbers.append(number)\n",
    "        \n",
    "else:\n",
    "    print('The number is above 100, run the program again and do better.')"
   ]
  },
  {
   "cell_type": "markdown",
   "metadata": {},
   "source": [
    "## Exercise 9:\n",
    "Write code that given a list of words and without defining a new list it will remove every word that contains an 'a'. You can use the following list:\n",
    "\n",
    "mylist = ['calculation',\n",
    "          'tree',\n",
    "          'density',\n",
    "          'soccer',\n",
    "          'cat',\n",
    "          'turtle',\n",
    "          'supercalifragilisticexpialidocious']"
   ]
  },
  {
   "cell_type": "code",
   "execution_count": 24,
   "metadata": {},
   "outputs": [],
   "source": [
    "mylist = ['calculation',\n",
    "          'tree',\n",
    "          'density',\n",
    "          'soccer',\n",
    "          'cat',\n",
    "          'turtle',\n",
    "          'supercalifragilisticexpialidocious']"
   ]
  },
  {
   "cell_type": "code",
   "execution_count": 31,
   "metadata": {},
   "outputs": [
    {
     "data": {
      "text/plain": [
       "['tree', 'density', 'soccer', 'turtle']"
      ]
     },
     "execution_count": 31,
     "metadata": {},
     "output_type": "execute_result"
    }
   ],
   "source": [
    "for item in mylist:\n",
    "    if 'a' in item:\n",
    "        mylist.remove(item)\n",
    "\n",
    "mylist"
   ]
  },
  {
   "cell_type": "markdown",
   "metadata": {},
   "source": [
    "## Exercise 10\n",
    "Given the following text:\n",
    "\n",
    "text = r\"\"\"\n",
    "Because I am sad, it is very difficult to open the doorknob and leave my house.\n",
    "Some people tell me taht the solution is to just concentrate and I will stop\n",
    "being sad, but they are clearly spouting nonsense. At least when my close\n",
    "friends found that I am sad, they just accepted it and have been there for me\n",
    "to help me get out of the house. Maybe one day I will be able to stop being\n",
    "sad and be more open about it.\n",
    "\"\"\"\n",
    "\n",
    "print the exact same text but replacing every instance of the word 'sad' by 'secretly a duck'"
   ]
  },
  {
   "cell_type": "code",
   "execution_count": 29,
   "metadata": {},
   "outputs": [],
   "source": [
    "text = r\"\"\"\n",
    "Because I am sad, it is very difficult to open the doorknob and leave my house.\n",
    "Some people tell me that the solution is to just concentrate and I will stop\n",
    "being sad, but they are clearly spouting nonsense. At least when my close\n",
    "friends found that I am sad, they just accepted it and have been there for me\n",
    "to help me get out of the house. Maybe one day I will be able to stop being\n",
    "sad and be more open about it.\n",
    "\"\"\""
   ]
  },
  {
   "cell_type": "code",
   "execution_count": 30,
   "metadata": {},
   "outputs": [
    {
     "name": "stdout",
     "output_type": "stream",
     "text": [
      "Because I am sad, it is very difficult to open the doorknob and leave my house. Some people tell me that the solution is to just concentrate and I will stop being sad, but they are clearly spouting nonsense. At least when my close friends found that I am sad, they just accepted it and have been there for me to help me get out of the house. Maybe one day I will be able to stop being secretly a duck and be more open about it. \n"
     ]
    }
   ],
   "source": [
    "new_text = ''\n",
    "\n",
    "for word in text.split():\n",
    "    if word == 'sad':\n",
    "        new_word = 'secretly a duck'\n",
    "    else:\n",
    "        new_word = word\n",
    "    new_text += new_word\n",
    "    new_text += ' '\n",
    "\n",
    "print(new_text)"
   ]
  },
  {
   "cell_type": "code",
   "execution_count": null,
   "metadata": {},
   "outputs": [],
   "source": []
  }
 ],
 "metadata": {
  "kernelspec": {
   "display_name": "codingcamp24",
   "language": "python",
   "name": "python3"
  },
  "language_info": {
   "codemirror_mode": {
    "name": "ipython",
    "version": 3
   },
   "file_extension": ".py",
   "mimetype": "text/x-python",
   "name": "python",
   "nbconvert_exporter": "python",
   "pygments_lexer": "ipython3",
   "version": "3.11.9"
  },
  "orig_nbformat": 4
 },
 "nbformat": 4,
 "nbformat_minor": 2
}
