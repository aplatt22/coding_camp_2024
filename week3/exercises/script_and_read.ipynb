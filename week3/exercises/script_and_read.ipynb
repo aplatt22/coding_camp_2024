{
 "cells": [
  {
   "cell_type": "markdown",
   "metadata": {},
   "source": [
    "# Script and Read Exercises"
   ]
  },
  {
   "cell_type": "markdown",
   "metadata": {},
   "source": [
    "## Exercise 1:\n",
    "Write a script that takes your name as input through the command line and prints a message greeting you, then telling a joke, and finally saying bye to you."
   ]
  },
  {
   "cell_type": "code",
   "execution_count": null,
   "metadata": {},
   "outputs": [],
   "source": [
    "import sys\n",
    "\n",
    "name = sys.argv[1]\n",
    "\n",
    "print(f'Hello, {name}! How are you?')\n",
    "\n",
    "print('A man walks into a bar. Ouch!')\n",
    "\n",
    "print(f'Goodbye, {name}!')"
   ]
  },
  {
   "cell_type": "markdown",
   "metadata": {},
   "source": [
    "## Exercise 2:\n",
    "Write a script that asks your name, then does exactly the same as the previous one."
   ]
  },
  {
   "cell_type": "code",
   "execution_count": null,
   "metadata": {},
   "outputs": [],
   "source": [
    "name = input('What is your name?\\n')\n",
    "\n",
    "print(f'Hello, {name}! How are you?')\n",
    "\n",
    "print('A man walks into a bar. Ouch!')\n",
    "\n",
    "print(f'Goodbye, {name}!')"
   ]
  },
  {
   "cell_type": "markdown",
   "metadata": {},
   "source": [
    "## Exercise 3:\n",
    "Write a script that takes in two numbers, the first one being a price and the second being the tip % (10,15,18,20,...) and prints the final cost."
   ]
  },
  {
   "cell_type": "code",
   "execution_count": null,
   "metadata": {},
   "outputs": [],
   "source": [
    "price = float(input('What was the price?\\n'))\n",
    "tip = float(input('What percentage would you like to tip?\\n'))\n",
    "\n",
    "tip_percent = tip/100\n",
    "\n",
    "tip_amount = (price * tip_percent)\n",
    "\n",
    "total = price + tip_amount\n",
    "\n",
    "print(f'Your total cost is ${total:.2f}')"
   ]
  },
  {
   "cell_type": "markdown",
   "metadata": {},
   "source": [
    "## Exercise 4:\n",
    "translate the following python script to text. What's the story?"
   ]
  },
  {
   "cell_type": "code",
   "execution_count": null,
   "metadata": {},
   "outputs": [],
   "source": [
    "ducks = 0\n",
    "geese = 0\n",
    "bears = 0\n",
    "initial_bread_crumbs = 5\n",
    "bread_crumbs = initial_bread_crumbs\n",
    "\n",
    "print('throw bread crumb')\n",
    "bread_crumbs = bread_crumbs - 1\n",
    "ducks = ducks + 1\n",
    "\n",
    "print('throw bread crumb')\n",
    "bread_crumbs = bread_crumbs - 1\n",
    "ducks = ducks + 1\n",
    "\n",
    "print('the geese scare the ducks')\n",
    "\n",
    "print('throw bread crumb')\n",
    "bread_crumbs = bread_crumbs - 1\n",
    "geese = geese + 1\n",
    "\n",
    "print('starts running')\n",
    "bread_crumbs = bread_crumbs - bread_crumbs\n",
    "geese = geese + 2\n",
    "bears = bears + 1"
   ]
  },
  {
   "cell_type": "markdown",
   "metadata": {},
   "source": [
    "You start out with no ducks, geese, or bears, and 5 breadcrumbs.\n",
    "You throw a breadcrumb, so now you have 4, and a duck comes.\n",
    "You throw another breadcrumb, so you have one less (3) and another duck comes.\n",
    "The geese come and scare the ducks.\n",
    "You throw another breadcrumb, so now you have one less (2) and a goose comes.\n",
    "You start running and drop all your breadcrumbs. \n",
    "Now you have no breadcrumbs, there are two more geese, and there is now a bear (that you're running from)."
   ]
  },
  {
   "cell_type": "markdown",
   "metadata": {},
   "source": [
    "## Exercise 5: \n",
    "translate the following python script to text. Can you catch the reference?"
   ]
  },
  {
   "cell_type": "code",
   "execution_count": null,
   "metadata": {},
   "outputs": [],
   "source": [
    "available_cheese = ['Camembert']\n",
    "bought_cheese = []\n",
    "cat_cheese = []\n",
    "runny_cheese_ok = True\n",
    "\n",
    "print('Welcome to the National Cheese Emporium!')\n",
    "\n",
    "if 'red Leicester' in available_cheese:\n",
    "    bought_cheese.append('red Leicester')\n",
    "else:\n",
    "    print(\"Sorry we don't have it\")\n",
    "\n",
    "if 'Tilsit' in available_cheese:\n",
    "    bought_cheese.append('Tilsit')\n",
    "else:\n",
    "    print(\"Sorry we don't have it\")\n",
    "\n",
    "if 'Caerphilly' in available_cheese:\n",
    "    bought_cheese.append('Caerphilly')\n",
    "else:\n",
    "    print(\"Sorry we don't have it\")\n",
    "\n",
    "if 'Bel Paese' in available_cheese:\n",
    "    bought_cheese.append('Bel Paese')\n",
    "else:\n",
    "    print(\"Sorry we don't have it\")\n",
    "\n",
    "print('... several cheeses after')\n",
    "\n",
    "if 'Camembert' in available_cheese:\n",
    "    print(\"We have it but it is runny\")\n",
    "    if runny_cheese_ok:\n",
    "        camembert_index = available_cheese.index('Camembert')\n",
    "        cat_cheese.append(available_cheese.pop(camembert_index))\n",
    "        print('Ooooooooooohhhh.......!')\n",
    "        if 'Camembert' in cat_cheese:\n",
    "            print(\"The cat's eaten it\")\n",
    "        else:\n",
    "            bought_cheese.append('Camembert')\n",
    "else:\n",
    "    print(\"Sorry we don't have it\")\n",
    "\n",
    "print('... more cheeses after')\n",
    "print('Have you in fact got any cheese here at all.')\n",
    "print(available_cheese)\n",
    "print('Bang!')\n",
    "print('What a senseless waste of human life')"
   ]
  },
  {
   "cell_type": "markdown",
   "metadata": {},
   "source": [
    "The cheese available is Camembert. \n",
    "You have bought no cheese, there is no cat cheese, and runny cheese is okay.\n",
    "You walk into the National Cheese Emporium and are greeted.\n",
    "You check to see if various cheeses (red Leicester, Tilsit, Caerphilly, and Bel Paese) are available.\n",
    "If the cheeses are available, you add them to the cheese you purchase.\n",
    "If the cheeses are not available, they say \"Sorry we don't have it\".\n",
    "After several cheeses you find that Camembert is available, but it is runny.\n",
    "Because runny cheese is okay, you remove Camembert from the list of available cheeses and get excited.\n",
    "You also notice that the cat is eating it.\n",
    "Since Camembert is now part of the cheeses the cat is eating, you are told that the cat has eaten all of it.\n",
    "You look for more cheeses that are available, find none, and shoot/insult the store keeper."
   ]
  },
  {
   "cell_type": "markdown",
   "metadata": {},
   "source": [
    "## Exercise 6:\n",
    "Translate the following python script to text. predict the value of the variables task, tasks, tasks_PI and journal each line of the code."
   ]
  },
  {
   "cell_type": "code",
   "execution_count": 7,
   "metadata": {},
   "outputs": [
    {
     "name": "stdout",
     "output_type": "stream",
     "text": [
      "['publish_research']\n"
     ]
    }
   ],
   "source": [
    "journal = []\n",
    "tasks_PI = ['write grants',]\n",
    "tasks = ['research_project1',]\n",
    "\n",
    "idx = tasks.index('research_project1') # idx = 0\n",
    "task = tasks.pop(idx) # task = 'research_project1'\n",
    "task = 'manuscript' + task[:len('research')] # task = 'manuscriptresearch'\n",
    "tasks.append(task) # tasks = ['manuscriptresearch']\n",
    "\n",
    "tasks.append('research_project2') # tasks = ['manuscriptresearch','research_project2']\n",
    "\n",
    "tasks_PI.append(tasks.pop(0)) # tasks_PI = ['write grants', 'manuscriptresearch']\n",
    "tasks.append(tasks_PI.pop(1)) # tasks = ['research_priject2', 'manuscriptresearch']\n",
    "tasks_PI.append(tasks.pop(-1)) # tasks_PI = ['write grants', 'manuscriptresearch']\n",
    "\n",
    "task = tasks_PI[-1] # task = 'manuscriptresearch'\n",
    "task = 'publish_' + task[-(len('project')+1):] # task = 'publish_research'\n",
    "tasks_PI[-1] = task # tasks_PI = ['write grants', 'publish_research']\n",
    "\n",
    "item = tasks_PI.pop(-1) # item = 'publish_research'\n",
    "journal = [item,] # journal = ['publish_research']"
   ]
  },
  {
   "cell_type": "markdown",
   "metadata": {},
   "source": [
    "The PI's task is to write grants.\n",
    "Your task is to work on research_project_1.\n",
    "You have no journal articles.\n",
    "You work on research_project_1 until you are finished, and it is no longer your task.\n",
    "However, you now have to write manuscript1 (to go with research_project_1).\n",
    "You also aquire a new task, research_project_2.\n",
    "You have finished the manuscript and given it to the PI.\n",
    "The PI goes over it and gives it back to you.\n",
    "You go over it again and give it back to the PI.\n",
    "Now, it is a task of the PI to publish the manuscript.\n",
    "The PI completes this task and gives the manuscript to the journal. Congrats!"
   ]
  },
  {
   "cell_type": "markdown",
   "metadata": {},
   "source": []
  }
 ],
 "metadata": {
  "kernelspec": {
   "display_name": "codingcamp24",
   "language": "python",
   "name": "python3"
  },
  "language_info": {
   "codemirror_mode": {
    "name": "ipython",
    "version": 3
   },
   "file_extension": ".py",
   "mimetype": "text/x-python",
   "name": "python",
   "nbconvert_exporter": "python",
   "pygments_lexer": "ipython3",
   "version": "3.11.9"
  },
  "orig_nbformat": 4
 },
 "nbformat": 4,
 "nbformat_minor": 2
}
